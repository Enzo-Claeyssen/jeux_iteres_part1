{
 "cells": [
  {
   "cell_type": "markdown",
   "id": "df434ea1-18c1-47bf-acc6-10f8730ad628",
   "metadata": {},
   "source": [
    "### Partie 4 : Environnement FrozenLake\n",
    "\n",
    "Voir https://gymnasium.farama.org/environments/toy_text/frozen_lake/"
   ]
  },
  {
   "cell_type": "code",
   "execution_count": 1,
   "id": "254ff6ca-a806-49a4-b693-b263e5d5c1ef",
   "metadata": {},
   "outputs": [
    {
     "ename": "NameError",
     "evalue": "name 'gym' is not defined",
     "output_type": "error",
     "traceback": [
      "\u001b[31m---------------------------------------------------------------------------\u001b[39m",
      "\u001b[31mNameError\u001b[39m                                 Traceback (most recent call last)",
      "\u001b[36mCell\u001b[39m\u001b[36m \u001b[39m\u001b[32mIn[1]\u001b[39m\u001b[32m, line 5\u001b[39m\n\u001b[32m      1\u001b[39m \u001b[38;5;28;01mimport\u001b[39;00m\u001b[38;5;250m \u001b[39m\u001b[34;01mgymnasium\u001b[39;00m\n\u001b[32m      2\u001b[39m \u001b[38;5;28;01mfrom\u001b[39;00m\u001b[38;5;250m \u001b[39m\u001b[34;01mgymnasium\u001b[39;00m\u001b[34;01m.\u001b[39;00m\u001b[34;01menvs\u001b[39;00m\u001b[34;01m.\u001b[39;00m\u001b[34;01mtoy_text\u001b[39;00m\u001b[34;01m.\u001b[39;00m\u001b[34;01mfrozen_lake\u001b[39;00m\u001b[38;5;250m \u001b[39m\u001b[38;5;28;01mimport\u001b[39;00m generate_random_map\n\u001b[32m----> \u001b[39m\u001b[32m5\u001b[39m \u001b[38;5;28;01mclass\u001b[39;00m\u001b[38;5;250m \u001b[39m\u001b[34;01mFrozenLakeEnv\u001b[39;00m(\u001b[43mgym\u001b[49m.Env) :\n\u001b[32m      6\u001b[39m     \u001b[38;5;28;01mdef\u001b[39;00m\u001b[38;5;250m \u001b[39m\u001b[34m__init__\u001b[39m(\u001b[38;5;28mself\u001b[39m, lake_map = generate_random_map(size=\u001b[32m4\u001b[39m)) :\n\u001b[32m      7\u001b[39m         \u001b[38;5;28msuper\u001b[39m(FrozenLakeEnv, \u001b[38;5;28mself\u001b[39m).\u001b[34m__init__\u001b[39m()\n",
      "\u001b[31mNameError\u001b[39m: name 'gym' is not defined"
     ]
    }
   ],
   "source": [
    "import gymnasium\n",
    "from gymnasium.envs.toy_text.frozen_lake import generate_random_map\n",
    "\n",
    "\n",
    "class FrozenLakeEnv(gym.Env) :\n",
    "    def __init__(self, lake_map = generate_random_map(size=4)) :\n",
    "        super(FrozenLakeEnv, self).__init__()\n",
    "        self.size = len(lake_map)\n",
    "        self.action_space = spaces.Discrete(4)\n",
    "        self.observation_space = spaces.Discrete(size ** 2)\n",
    "        self.state = 0\n",
    "        self.map = lake_map\n",
    "    \n",
    "    def reset(self) :\n",
    "        self.state = 0\n",
    "        return self.state\n",
    "    \n",
    "    def step(self, action) :\n",
    "        x, y = self._stateToCoordinate(self.state)\n",
    "        if action == 0 : # Left\n",
    "            if x > 0 :\n",
    "                x -= 1\n",
    "        elif action == 1 : # Down\n",
    "            if y < self.size -1 :\n",
    "                y += 1\n",
    "        elif action == 2 : # Right\n",
    "            if x < self.size -1 :\n",
    "                x += 1\n",
    "        elif action == 3 : # Up\n",
    "            if y > 0 :\n",
    "                y -= 1\n",
    "        \n",
    "        self.state = self._coordinateToState(x, y)\n",
    "        \n",
    "        result = self.map[y][x]\n",
    "        done = result in ['H', 'G']\n",
    "        if result == 'G' :\n",
    "            reward = 1\n",
    "        elif result == 'H' :\n",
    "            reward = 0\n",
    "        else :\n",
    "            reward = 0\n",
    "        return self.state, reward, done, {}\n",
    "    \n",
    "    \n",
    "    def _stateToCoordinate(self, state) :\n",
    "        x = state % self.size\n",
    "        y = state // self.size\n",
    "        return x, y\n",
    "    \n",
    "    def _coordinateToState(self, x, y) :\n",
    "        return self.size*y + x\n",
    "    \n",
    "    def render(self, mode=\"human\") :\n",
    "        x, y = self._stateToCoordinate(self.state)\n",
    "        toPrint = ''\n",
    "        for i in range(self.size) :\n",
    "            toPrintRow = ''\n",
    "            row = self.map[i]\n",
    "            for j in range(self.size) :\n",
    "                if (j, i) == (x, y):\n",
    "                    toPrintRow += '.'\n",
    "                else :\n",
    "                    toPrintRow += row[j]\n",
    "            toPrint += toPrintRow + '\\n'\n",
    "        print(toPrint)\n",
    "        \n",
    "    def seed(self, seedInt):\n",
    "        pass\n",
    "        #determinist, needed for stablebaselines3"
   ]
  },
  {
   "cell_type": "markdown",
   "id": "c3b5bc7a-dd95-4e23-8895-0987245ce049",
   "metadata": {},
   "source": [
    "## Observations"
   ]
  },
  {
   "cell_type": "markdown",
   "id": "96bbf479-0f4f-4bcf-acf9-1de5a4960004",
   "metadata": {},
   "source": [
    "### 2. Observation FrozeLake non slippery"
   ]
  },
  {
   "cell_type": "code",
   "execution_count": null,
   "id": "4ca460a1-df71-4afb-b438-c6fd3cbca7dd",
   "metadata": {},
   "outputs": [],
   "source": [
    "import matplotlib.pyplot as plt\n",
    "\n",
    "data = [(4, 0, 0), (6, 0, 1), (8, 1, 0), (10, 1, 1)]\n",
    "fig, axes = plt.subplots(2, 2, figsize=(15, 15))\n",
    "\n",
    "\n",
    "for (size, x, y) in data :\n",
    "    lake_map = generate_random_map(size = size)\n",
    "    env = FrozenLakeEnv(lake_map = lake_map)\n",
    "    env.render()\n",
    "    DQNmodel, DQNrewards = train_dqn(env, lr = 0.01, buffer_size = 500, \n",
    "              exploration_fraction = 0.3, exploration_final_eps = 0.05, \n",
    "              timesteps = 10000)\n",
    "    QTable, QRewards = train_q_learning(env, episodes = len(DQNrewards),  alpha = 0.1, gamma = 0.9, epsilon = 0.7)\n",
    "    \n",
    "    \n",
    "    axes[x, y].plot([r for r in QRewards], label='QLearning')\n",
    "    axes[x, y].plot([r for r in DQNrewards], label='DQN')\n",
    "    axes[x, y].set_xlim([0, 200])\n",
    "    axes[x, y].set_ylim([-1, 2])\n",
    "    axes[x, y].legend()\n",
    "    axes[x, y].set_xlabel(\"Épisode\")\n",
    "    axes[x, y].set_ylabel(\"Récompense\")\n",
    "    axes[x, y].set_title(f\"Récompense par épisode pour carte de taille {size}\")\n",
    "    axes[x, y].grid()\n",
    "plt.show()"
   ]
  }
 ],
 "metadata": {
  "kernelspec": {
   "display_name": "Python 3 (ipykernel)",
   "language": "python",
   "name": "python3"
  },
  "language_info": {
   "codemirror_mode": {
    "name": "ipython",
    "version": 3
   },
   "file_extension": ".py",
   "mimetype": "text/x-python",
   "name": "python",
   "nbconvert_exporter": "python",
   "pygments_lexer": "ipython3",
   "version": "3.12.3"
  }
 },
 "nbformat": 4,
 "nbformat_minor": 5
}
