{
 "cells": [
  {
   "cell_type": "markdown",
   "id": "39ea223f-f571-4f9d-9f09-62dc0cb5bfbf",
   "metadata": {},
   "source": [
    "## Objectif\n",
    "\n",
    "Comprendre comment régler de façon optimale certains paramètres des algorithmes d'apprentissage du Q-Learning et de DQN.\n",
    "Puis comparer leur performances sous leur réglage optimale respectif."
   ]
  },
  {
   "cell_type": "markdown",
   "id": "e8eaf102-976e-4f10-a5c9-e69695bf99f1",
   "metadata": {},
   "source": [
    "## Les algorithmes\n",
    "\n",
    "On utilise le Q-Learning tabulaire et DQN dont on trouvera l'implémentation dans leur fichier python respectif : QLearning.py et DQN.py\n",
    "\n",
    "Les deux fichiers comportent chacun deux fonctions importantes : train-XXX et test-XXX ou on remplace XXX par l'algorithme à utiliser.\n",
    "\n",
    "- La fonction train permet d'entraîner un agent et d'en obtenir le modèle ainsi que la suite de récompenses obtenues au cours de l'entraînement\n",
    "\n",
    "- La fonction test permet de spécifier un environnement ainsi qu'un modèle et de dérouler un épisode"
   ]
  },
  {
   "cell_type": "markdown",
   "id": "9fdd6fbf-a3d9-41f7-85c0-4e9479c200a5",
   "metadata": {},
   "source": [
    "## Les environnements\n",
    "\n",
    "Les algorithmes utilisés fonctionnent avec tous les environnement \"Gym\" qui suivent le schéma suivant :"
   ]
  },
  {
   "cell_type": "code",
   "execution_count": 2,
   "id": "7b177464-c393-4a26-97b7-1be637d36b6e",
   "metadata": {},
   "outputs": [],
   "source": [
    "import gym\n",
    "\n",
    "class monEnvironnement(gym.Env) :\n",
    "\n",
    "    def __init__(self) :\n",
    "        # J'initialise l'environnement\n",
    "        pass\n",
    "\n",
    "    def reset(self) :\n",
    "        # Je réinitialise l'environnement\n",
    "        # Je renvoie l'état initial (int)\n",
    "        pass\n",
    "\n",
    "    def step(self, action) :\n",
    "        # J'applique l'action (int) effectué par l'agent dans l'environnement\n",
    "        # Je renvoie dans cet ordre :\n",
    "        # Le nouvel état de l'environnement (int)\n",
    "        # La récompense immédiate octroyée à l'agent (int)\n",
    "        # True si l'épisode est fini, False sinon (bool)\n",
    "        # Informations complémentaires (dict)\n",
    "        pass\n",
    "\n",
    "    def render(self, mode='human') :\n",
    "        # Affiche l'état courant\n",
    "        # ne renvoie rien\n",
    "        pass\n",
    "\n",
    "    def seed(self, seedInt) :\n",
    "        # Prend l'entier comme seed\n",
    "        # N'est utile que pour les environnements non déterministe \n",
    "        # Permet d'affecter aux générateurs aléatoires cette seed précise\n",
    "        # Ne renvoie rien\n",
    "        pass"
   ]
  },
  {
   "cell_type": "markdown",
   "id": "0701bbaa-87f8-4665-a028-d69dc6b4babb",
   "metadata": {},
   "source": [
    "## Les différents problèmes"
   ]
  },
  {
   "cell_type": "markdown",
   "id": "7d33fa9c-90bd-4cae-a40a-516ac8488635",
   "metadata": {},
   "source": [
    "### Problème 1 : Le couloir\n",
    "\n",
    "La fiche couloir.ipynb traite ce problème.\n",
    "Ce problème est assez simple, il a pour objectif de prendre en main les différentes librairies et d'établir une méthode à suivre pour l'étude des prochains problèmes."
   ]
  },
  {
   "cell_type": "markdown",
   "id": "26ed306f-2070-4bda-abf1-03154ac40206",
   "metadata": {},
   "source": [
    "### Problème 2 : Le Labyrinthe\n",
    "\n",
    "La fiche Labyrinthe.ipynb traite ce problème.\n",
    "\n",
    "Ce problème introduit d'avantages d'actions et d'états possibles."
   ]
  },
  {
   "cell_type": "code",
   "execution_count": null,
   "id": "06e6c7a9-f0c7-49b0-ad02-b41f3b41744d",
   "metadata": {},
   "outputs": [],
   "source": []
  }
 ],
 "metadata": {
  "kernelspec": {
   "display_name": "Python 3 (ipykernel)",
   "language": "python",
   "name": "python3"
  },
  "language_info": {
   "codemirror_mode": {
    "name": "ipython",
    "version": 3
   },
   "file_extension": ".py",
   "mimetype": "text/x-python",
   "name": "python",
   "nbconvert_exporter": "python",
   "pygments_lexer": "ipython3",
   "version": "3.12.3"
  }
 },
 "nbformat": 4,
 "nbformat_minor": 5
}
