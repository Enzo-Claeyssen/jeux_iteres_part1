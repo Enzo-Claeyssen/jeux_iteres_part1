{
 "cells": [
  {
   "cell_type": "markdown",
   "id": "39ea223f-f571-4f9d-9f09-62dc0cb5bfbf",
   "metadata": {},
   "source": [
    "## Objectif\n",
    "\n",
    "Comprendre comment régler de façon optimale certains paramètres des algorithmes d'apprentissage du Q-Learning et de DQN.\n",
    "Puis comparer leur performances sous leur réglage optimale respectif."
   ]
  },
  {
   "cell_type": "markdown",
   "id": "e8eaf102-976e-4f10-a5c9-e69695bf99f1",
   "metadata": {},
   "source": [
    "## Les algorithmes\n",
    "\n",
    "On utilise le Q-Learning tabulaire et DQN dont on trouvera l'implémentation dans leur fichier python respectif : QLearning.py et DQN.py\n",
    "\n",
    "Les deux fichiers comportent chacun deux fonctions importantes : train-XXX et test-XXX ou on remplace XXX par l'algorithme à utiliser.\n",
    "\n",
    "- La fonction train permet d'entraîner un agent et d'en obtenir le modèle ainsi que la suite de récompenses obtenues au cours de l'entraînement\n",
    "\n",
    "- La fonction test permet de spécifier un environnement ainsi qu'un modèle et de dérouler un épisode"
   ]
  },
  {
   "cell_type": "markdown",
   "id": "9fdd6fbf-a3d9-41f7-85c0-4e9479c200a5",
   "metadata": {},
   "source": [
    "## Les environnements\n",
    "\n",
    "Les algorithmes utilisés fonctionnent avec tous les environnement \"Gym\" qui suivent le schéma suivant :"
   ]
  },
  {
   "cell_type": "code",
   "execution_count": 2,
   "id": "7b177464-c393-4a26-97b7-1be637d36b6e",
   "metadata": {},
   "outputs": [],
   "source": [
    "import gym\n",
    "\n",
    "class monEnvironnement(gym.Env) :\n",
    "\n",
    "    def __init__(self) :\n",
    "        # J'initialise l'environnement\n",
    "        pass\n",
    "\n",
    "    def reset(self) :\n",
    "        # Je réinitialise l'environnement\n",
    "        # Je renvoie l'état initial (int)\n",
    "        pass\n",
    "\n",
    "    def step(self, action) :\n",
    "        # J'applique l'action (int) effectué par l'agent dans l'environnement\n",
    "        # Je renvoie dans cet ordre :\n",
    "        # Le nouvel état de l'environnement (int)\n",
    "        # La récompense immédiate octroyée à l'agent (int)\n",
    "        # True si l'épisode est fini, False sinon (bool)\n",
    "        # Informations complémentaires (dict)\n",
    "        pass\n",
    "\n",
    "    def render(self, mode='human') :\n",
    "        # Affiche l'état courant\n",
    "        # ne renvoie rien\n",
    "        pass\n",
    "\n",
    "    def seed(self, seedInt) :\n",
    "        # Prend l'entier comme seed\n",
    "        # N'est utile que pour les environnements non déterministe \n",
    "        # Permet d'affecter aux générateurs aléatoires cette seed précise\n",
    "        # Ne renvoie rien\n",
    "        pass"
   ]
  },
  {
   "cell_type": "markdown",
   "id": "0701bbaa-87f8-4665-a028-d69dc6b4babb",
   "metadata": {},
   "source": [
    "## Les différents problèmes"
   ]
  },
  {
   "cell_type": "markdown",
   "id": "7d33fa9c-90bd-4cae-a40a-516ac8488635",
   "metadata": {},
   "source": [
    "### Problème 1 : Le couloir\n",
    "\n",
    "La fiche couloir.ipynb traite ce problème.\n",
    "Ce problème est assez simple, il a pour objectif de prendre en main les différentes librairies et d'établir une méthode à suivre pour l'étude des prochains problèmes."
   ]
  },
  {
   "cell_type": "markdown",
   "id": "96d81620-b49a-491f-97fc-932c85230ab0",
   "metadata": {},
   "source": [
    "Un couloir peut être imaginé comme une série de cases les unes à côtés des autres.\n",
    "\n",
    "La longueur du couloir correspond au nombre de cases qui le représentent\n",
    "\n",
    "L'agent ne perçoit qu'un entier, celui correspondant à la case où il se trouve.\n",
    "S'il se trouve sur la première case alors il observe 0, il observera 1 s'il se trouve sur la seconde case etc..\n",
    "\n",
    "Soit n la position actuelle de l'agent.\n",
    "\n",
    "À chaque pas, l'agent peut effectuer deux actions, aller à gauche (se déplacer en n-1 pour n non nul) ou aller à droite (se déplacer en n+1).\n",
    "L'épisode se termine lorsque l'agent se trouve en (taille du couloir - 1)\n",
    "\n",
    "\n",
    "Les récompenses sont distribuées ainsi :\n",
    "- Si l'agent n'est pas en taille - 1 : -1\n",
    "- Si l'agent se trouve en taille - 1 : 10"
   ]
  },
  {
   "cell_type": "markdown",
   "id": "26ed306f-2070-4bda-abf1-03154ac40206",
   "metadata": {},
   "source": [
    "### Problème 2 : Le Labyrinthe\n",
    "\n",
    "La fiche Labyrinthe.ipynb traite ce problème.\n",
    "\n",
    "Ce problème introduit d'avantages d'actions et d'états possibles. Il est basé sur l'environnement FrozenLake"
   ]
  },
  {
   "cell_type": "markdown",
   "id": "5f303676-afbb-40a0-9518-8d144d7da012",
   "metadata": {},
   "source": [
    "L'objectif est d'atteindre la sortie d'un labyrinthe.\n",
    "Le labyrinthe est représenté par une succession de cases formant un carré dont on peut choisir la taille.\n",
    "\n",
    "À chaque case est associé un numéro qui représente sa position dans le labyrinthe.\n",
    "L'agent ne peut perçevoir que le numéro associé à sa position actuelle.\n",
    "\n",
    "L'agent résoud les labyrinthes un par un (il s'entraîne sur un unique labyrinthe pour en trouver la solution).\n",
    "\n",
    "\n",
    "\n",
    "À chaque pas, l'agent peut :\n",
    "- aller en haut\n",
    "- aller en bas\n",
    "- aller à gauche\n",
    "- aller à droite\n",
    "\n",
    "Mais il n'est pas possible de sortir des limites du labyrinthe (aller en haut en étant tout en haut n'a donc aucun effet)\n",
    "\n",
    "\n",
    "Le labyrinthe possède de multiples case :\n",
    "- \"F\" : une case libre\n",
    "- \"G\" : la sortie du labyrinthe\n",
    "- \"S\" : le point de départ de l'agent\n",
    "- \".\" : la position actuelle de l'agent\n",
    "- \"H\" : un trou\n",
    "\n",
    "  Dans ce labyrinthe, les murs sont remplacés par des trous.\n",
    "\n",
    "L'épisode prend fin si :\n",
    "- l'agent tombe dans un trou\n",
    "- l'agent trouve la sortie\n",
    "\n",
    "La \"taille\" dy labyrinthe fait référence à la longueur du côté du carré le représentant. Il possède en tout taille^2 cases.\n",
    "\n",
    "Le point de départ de l'agent est toujours en haut à gauche et la sortie toujours en bas à droite.\n",
    "Quelque soit le labyrinthe, il existe au moins une solution.\n",
    "\n",
    "\n",
    "Les récompenses sont distribuées de cette façon :\n",
    "- tomber dans un trou : -1\n",
    "- arriver sur une case libre : -1 / (taille ^ 2)\n",
    "- trouver la sortie : 1"
   ]
  },
  {
   "cell_type": "code",
   "execution_count": null,
   "id": "34ec0728-ba21-4e9a-8fa6-9dd59b5804d4",
   "metadata": {},
   "outputs": [],
   "source": []
  }
 ],
 "metadata": {
  "kernelspec": {
   "display_name": "Python 3 (ipykernel)",
   "language": "python",
   "name": "python3"
  },
  "language_info": {
   "codemirror_mode": {
    "name": "ipython",
    "version": 3
   },
   "file_extension": ".py",
   "mimetype": "text/x-python",
   "name": "python",
   "nbconvert_exporter": "python",
   "pygments_lexer": "ipython3",
   "version": "3.12.3"
  }
 },
 "nbformat": 4,
 "nbformat_minor": 5
}
